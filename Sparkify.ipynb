{
 "cells": [
  {
   "cell_type": "markdown",
   "metadata": {},
   "source": [
    "# Sparkify Project Workspace\n",
    "This workspace contains a tiny subset (128MB) of the full dataset available (12GB). Feel free to use this workspace to build your project, or to explore a smaller subset with Spark before deploying your cluster on the cloud. Instructions for setting up your Spark cluster is included in the last lesson of the Extracurricular Spark Course content.\n",
    "\n",
    "You can follow the steps below to guide your data analysis and model building portion of this project."
   ]
  },
  {
   "cell_type": "code",
   "execution_count": 80,
   "metadata": {},
   "outputs": [],
   "source": [
    "# import libraries\n",
    "from pyspark.sql import SparkSession\n",
    "from pyspark.sql import Window\n",
    "from pyspark.sql.functions import mean as Fmean\n",
    "from pyspark.sql.functions import isnan, when, count, col, lit\n",
    "from pyspark.ml.classification import LogisticRegression, DecisionTreeClassifier\n",
    "from pyspark.ml.feature import VectorAssembler, StandardScaler, MinMaxScaler\n",
    "from pyspark.ml import Pipeline\n",
    "from pyspark.sql.types import IntegerType"
   ]
  },
  {
   "cell_type": "code",
   "execution_count": 2,
   "metadata": {},
   "outputs": [],
   "source": [
    "# create a Spark session\n",
    "spark = SparkSession.builder \\\n",
    "    .appName(\"Wrangling Data\") \\\n",
    "    .getOrCreate()"
   ]
  },
  {
   "cell_type": "markdown",
   "metadata": {},
   "source": [
    "# Load and Clean Dataset\n",
    "In this workspace, the mini-dataset file is `mini_sparkify_event_data.json`. Load and clean the dataset, checking for invalid or missing data - for example, records without userids or sessionids. "
   ]
  },
  {
   "cell_type": "code",
   "execution_count": 3,
   "metadata": {},
   "outputs": [],
   "source": [
    "path = \"mini_sparkify_event_data.json\"\n",
    "user_log = spark.read.json(path)"
   ]
  },
  {
   "cell_type": "markdown",
   "metadata": {},
   "source": [
    "### dataset basic info"
   ]
  },
  {
   "cell_type": "code",
   "execution_count": 4,
   "metadata": {},
   "outputs": [
    {
     "name": "stdout",
     "output_type": "stream",
     "text": [
      "root\n",
      " |-- artist: string (nullable = true)\n",
      " |-- auth: string (nullable = true)\n",
      " |-- firstName: string (nullable = true)\n",
      " |-- gender: string (nullable = true)\n",
      " |-- itemInSession: long (nullable = true)\n",
      " |-- lastName: string (nullable = true)\n",
      " |-- length: double (nullable = true)\n",
      " |-- level: string (nullable = true)\n",
      " |-- location: string (nullable = true)\n",
      " |-- method: string (nullable = true)\n",
      " |-- page: string (nullable = true)\n",
      " |-- registration: long (nullable = true)\n",
      " |-- sessionId: long (nullable = true)\n",
      " |-- song: string (nullable = true)\n",
      " |-- status: long (nullable = true)\n",
      " |-- ts: long (nullable = true)\n",
      " |-- userAgent: string (nullable = true)\n",
      " |-- userId: string (nullable = true)\n",
      "\n"
     ]
    }
   ],
   "source": [
    "user_log.printSchema()"
   ]
  },
  {
   "cell_type": "code",
   "execution_count": 5,
   "metadata": {},
   "outputs": [
    {
     "data": {
      "text/plain": [
       "286500"
      ]
     },
     "execution_count": 5,
     "metadata": {},
     "output_type": "execute_result"
    }
   ],
   "source": [
    "user_log.count()"
   ]
  },
  {
   "cell_type": "code",
   "execution_count": 6,
   "metadata": {},
   "outputs": [
    {
     "data": {
      "text/html": [
       "<div>\n",
       "<style scoped>\n",
       "    .dataframe tbody tr th:only-of-type {\n",
       "        vertical-align: middle;\n",
       "    }\n",
       "\n",
       "    .dataframe tbody tr th {\n",
       "        vertical-align: top;\n",
       "    }\n",
       "\n",
       "    .dataframe thead th {\n",
       "        text-align: right;\n",
       "    }\n",
       "</style>\n",
       "<table border=\"1\" class=\"dataframe\">\n",
       "  <thead>\n",
       "    <tr style=\"text-align: right;\">\n",
       "      <th></th>\n",
       "      <th>artist</th>\n",
       "      <th>auth</th>\n",
       "      <th>firstName</th>\n",
       "      <th>gender</th>\n",
       "      <th>itemInSession</th>\n",
       "      <th>lastName</th>\n",
       "      <th>length</th>\n",
       "      <th>level</th>\n",
       "      <th>location</th>\n",
       "      <th>method</th>\n",
       "      <th>page</th>\n",
       "      <th>registration</th>\n",
       "      <th>sessionId</th>\n",
       "      <th>song</th>\n",
       "      <th>status</th>\n",
       "      <th>ts</th>\n",
       "      <th>userAgent</th>\n",
       "      <th>userId</th>\n",
       "    </tr>\n",
       "  </thead>\n",
       "  <tbody>\n",
       "    <tr>\n",
       "      <th>0</th>\n",
       "      <td>Martha Tilston</td>\n",
       "      <td>Logged In</td>\n",
       "      <td>Colin</td>\n",
       "      <td>M</td>\n",
       "      <td>50</td>\n",
       "      <td>Freeman</td>\n",
       "      <td>277.89016</td>\n",
       "      <td>paid</td>\n",
       "      <td>Bakersfield, CA</td>\n",
       "      <td>PUT</td>\n",
       "      <td>NextSong</td>\n",
       "      <td>1538173362000</td>\n",
       "      <td>29</td>\n",
       "      <td>Rockpools</td>\n",
       "      <td>200</td>\n",
       "      <td>1538352117000</td>\n",
       "      <td>Mozilla/5.0 (Windows NT 6.1; WOW64; rv:31.0) G...</td>\n",
       "      <td>30</td>\n",
       "    </tr>\n",
       "    <tr>\n",
       "      <th>1</th>\n",
       "      <td>Five Iron Frenzy</td>\n",
       "      <td>Logged In</td>\n",
       "      <td>Micah</td>\n",
       "      <td>M</td>\n",
       "      <td>79</td>\n",
       "      <td>Long</td>\n",
       "      <td>236.09424</td>\n",
       "      <td>free</td>\n",
       "      <td>Boston-Cambridge-Newton, MA-NH</td>\n",
       "      <td>PUT</td>\n",
       "      <td>NextSong</td>\n",
       "      <td>1538331630000</td>\n",
       "      <td>8</td>\n",
       "      <td>Canada</td>\n",
       "      <td>200</td>\n",
       "      <td>1538352180000</td>\n",
       "      <td>\"Mozilla/5.0 (Windows NT 6.1; WOW64) AppleWebK...</td>\n",
       "      <td>9</td>\n",
       "    </tr>\n",
       "    <tr>\n",
       "      <th>2</th>\n",
       "      <td>Adam Lambert</td>\n",
       "      <td>Logged In</td>\n",
       "      <td>Colin</td>\n",
       "      <td>M</td>\n",
       "      <td>51</td>\n",
       "      <td>Freeman</td>\n",
       "      <td>282.82730</td>\n",
       "      <td>paid</td>\n",
       "      <td>Bakersfield, CA</td>\n",
       "      <td>PUT</td>\n",
       "      <td>NextSong</td>\n",
       "      <td>1538173362000</td>\n",
       "      <td>29</td>\n",
       "      <td>Time For Miracles</td>\n",
       "      <td>200</td>\n",
       "      <td>1538352394000</td>\n",
       "      <td>Mozilla/5.0 (Windows NT 6.1; WOW64; rv:31.0) G...</td>\n",
       "      <td>30</td>\n",
       "    </tr>\n",
       "    <tr>\n",
       "      <th>3</th>\n",
       "      <td>Enigma</td>\n",
       "      <td>Logged In</td>\n",
       "      <td>Micah</td>\n",
       "      <td>M</td>\n",
       "      <td>80</td>\n",
       "      <td>Long</td>\n",
       "      <td>262.71302</td>\n",
       "      <td>free</td>\n",
       "      <td>Boston-Cambridge-Newton, MA-NH</td>\n",
       "      <td>PUT</td>\n",
       "      <td>NextSong</td>\n",
       "      <td>1538331630000</td>\n",
       "      <td>8</td>\n",
       "      <td>Knocking On Forbidden Doors</td>\n",
       "      <td>200</td>\n",
       "      <td>1538352416000</td>\n",
       "      <td>\"Mozilla/5.0 (Windows NT 6.1; WOW64) AppleWebK...</td>\n",
       "      <td>9</td>\n",
       "    </tr>\n",
       "    <tr>\n",
       "      <th>4</th>\n",
       "      <td>Daft Punk</td>\n",
       "      <td>Logged In</td>\n",
       "      <td>Colin</td>\n",
       "      <td>M</td>\n",
       "      <td>52</td>\n",
       "      <td>Freeman</td>\n",
       "      <td>223.60771</td>\n",
       "      <td>paid</td>\n",
       "      <td>Bakersfield, CA</td>\n",
       "      <td>PUT</td>\n",
       "      <td>NextSong</td>\n",
       "      <td>1538173362000</td>\n",
       "      <td>29</td>\n",
       "      <td>Harder Better Faster Stronger</td>\n",
       "      <td>200</td>\n",
       "      <td>1538352676000</td>\n",
       "      <td>Mozilla/5.0 (Windows NT 6.1; WOW64; rv:31.0) G...</td>\n",
       "      <td>30</td>\n",
       "    </tr>\n",
       "  </tbody>\n",
       "</table>\n",
       "</div>"
      ],
      "text/plain": [
       "             artist       auth firstName gender  itemInSession lastName  \\\n",
       "0    Martha Tilston  Logged In     Colin      M             50  Freeman   \n",
       "1  Five Iron Frenzy  Logged In     Micah      M             79     Long   \n",
       "2      Adam Lambert  Logged In     Colin      M             51  Freeman   \n",
       "3            Enigma  Logged In     Micah      M             80     Long   \n",
       "4         Daft Punk  Logged In     Colin      M             52  Freeman   \n",
       "\n",
       "      length level                        location method      page  \\\n",
       "0  277.89016  paid                 Bakersfield, CA    PUT  NextSong   \n",
       "1  236.09424  free  Boston-Cambridge-Newton, MA-NH    PUT  NextSong   \n",
       "2  282.82730  paid                 Bakersfield, CA    PUT  NextSong   \n",
       "3  262.71302  free  Boston-Cambridge-Newton, MA-NH    PUT  NextSong   \n",
       "4  223.60771  paid                 Bakersfield, CA    PUT  NextSong   \n",
       "\n",
       "    registration  sessionId                           song  status  \\\n",
       "0  1538173362000         29                      Rockpools     200   \n",
       "1  1538331630000          8                         Canada     200   \n",
       "2  1538173362000         29              Time For Miracles     200   \n",
       "3  1538331630000          8    Knocking On Forbidden Doors     200   \n",
       "4  1538173362000         29  Harder Better Faster Stronger     200   \n",
       "\n",
       "              ts                                          userAgent userId  \n",
       "0  1538352117000  Mozilla/5.0 (Windows NT 6.1; WOW64; rv:31.0) G...     30  \n",
       "1  1538352180000  \"Mozilla/5.0 (Windows NT 6.1; WOW64) AppleWebK...      9  \n",
       "2  1538352394000  Mozilla/5.0 (Windows NT 6.1; WOW64; rv:31.0) G...     30  \n",
       "3  1538352416000  \"Mozilla/5.0 (Windows NT 6.1; WOW64) AppleWebK...      9  \n",
       "4  1538352676000  Mozilla/5.0 (Windows NT 6.1; WOW64; rv:31.0) G...     30  "
      ]
     },
     "execution_count": 6,
     "metadata": {},
     "output_type": "execute_result"
    }
   ],
   "source": [
    "user_log.limit(5).toPandas()"
   ]
  },
  {
   "cell_type": "markdown",
   "metadata": {},
   "source": [
    "### check unique values for some columns"
   ]
  },
  {
   "cell_type": "code",
   "execution_count": 7,
   "metadata": {},
   "outputs": [
    {
     "data": {
      "text/plain": [
       "[Row(auth='Logged Out'),\n",
       " Row(auth='Cancelled'),\n",
       " Row(auth='Guest'),\n",
       " Row(auth='Logged In')]"
      ]
     },
     "execution_count": 7,
     "metadata": {},
     "output_type": "execute_result"
    }
   ],
   "source": [
    "user_log.select(\"auth\").dropDuplicates().collect()"
   ]
  },
  {
   "cell_type": "code",
   "execution_count": 8,
   "metadata": {},
   "outputs": [
    {
     "data": {
      "text/plain": [
       "[Row(level='free'), Row(level='paid')]"
      ]
     },
     "execution_count": 8,
     "metadata": {},
     "output_type": "execute_result"
    }
   ],
   "source": [
    "user_log.select(\"level\").dropDuplicates().collect()"
   ]
  },
  {
   "cell_type": "code",
   "execution_count": 9,
   "metadata": {},
   "outputs": [
    {
     "data": {
      "text/plain": [
       "[Row(method='PUT'), Row(method='GET')]"
      ]
     },
     "execution_count": 9,
     "metadata": {},
     "output_type": "execute_result"
    }
   ],
   "source": [
    "user_log.select(\"method\").dropDuplicates().collect()"
   ]
  },
  {
   "cell_type": "code",
   "execution_count": 10,
   "metadata": {},
   "outputs": [
    {
     "data": {
      "text/plain": [
       "[Row(page='Cancel'),\n",
       " Row(page='Submit Downgrade'),\n",
       " Row(page='Thumbs Down'),\n",
       " Row(page='Home'),\n",
       " Row(page='Downgrade'),\n",
       " Row(page='Roll Advert'),\n",
       " Row(page='Logout'),\n",
       " Row(page='Save Settings'),\n",
       " Row(page='Cancellation Confirmation'),\n",
       " Row(page='About'),\n",
       " Row(page='Submit Registration'),\n",
       " Row(page='Settings'),\n",
       " Row(page='Login'),\n",
       " Row(page='Register'),\n",
       " Row(page='Add to Playlist'),\n",
       " Row(page='Add Friend'),\n",
       " Row(page='NextSong'),\n",
       " Row(page='Thumbs Up'),\n",
       " Row(page='Help'),\n",
       " Row(page='Upgrade'),\n",
       " Row(page='Error'),\n",
       " Row(page='Submit Upgrade')]"
      ]
     },
     "execution_count": 10,
     "metadata": {},
     "output_type": "execute_result"
    }
   ],
   "source": [
    "user_log.select(\"page\").dropDuplicates().collect()"
   ]
  },
  {
   "cell_type": "code",
   "execution_count": 11,
   "metadata": {},
   "outputs": [
    {
     "data": {
      "text/plain": [
       "[Row(status=307), Row(status=404), Row(status=200)]"
      ]
     },
     "execution_count": 11,
     "metadata": {},
     "output_type": "execute_result"
    }
   ],
   "source": [
    "user_log.select(\"status\").dropDuplicates().collect()"
   ]
  },
  {
   "cell_type": "markdown",
   "metadata": {},
   "source": [
    "### How columns are related with other cplumns"
   ]
  },
  {
   "cell_type": "code",
   "execution_count": 12,
   "metadata": {},
   "outputs": [
    {
     "data": {
      "text/plain": [
       "[Row(auth='Logged Out', page='Error', method='GET'),\n",
       " Row(auth='Logged Out', page='Help', method='GET'),\n",
       " Row(auth='Logged Out', page='Home', method='GET'),\n",
       " Row(auth='Logged Out', page='Login', method='PUT'),\n",
       " Row(auth='Logged Out', page='About', method='GET')]"
      ]
     },
     "execution_count": 12,
     "metadata": {},
     "output_type": "execute_result"
    }
   ],
   "source": [
    "user_log.filter(user_log.auth==\"Logged Out\").select([\"auth\", \"page\", \"method\"]).dropDuplicates().collect()"
   ]
  },
  {
   "cell_type": "code",
   "execution_count": 13,
   "metadata": {},
   "outputs": [
    {
     "data": {
      "text/plain": [
       "[Row(auth='Guest', page='Help', method='GET'),\n",
       " Row(auth='Guest', page='Register', method='GET'),\n",
       " Row(auth='Guest', page='Home', method='GET'),\n",
       " Row(auth='Guest', page='Submit Registration', method='PUT'),\n",
       " Row(auth='Guest', page='Error', method='GET'),\n",
       " Row(auth='Guest', page='About', method='GET')]"
      ]
     },
     "execution_count": 13,
     "metadata": {},
     "output_type": "execute_result"
    }
   ],
   "source": [
    "user_log.filter(user_log.auth==\"Guest\").select([\"auth\", \"page\", \"method\"]).dropDuplicates().collect()"
   ]
  },
  {
   "cell_type": "code",
   "execution_count": 14,
   "metadata": {},
   "outputs": [
    {
     "data": {
      "text/plain": [
       "[Row(auth='Cancelled', page='Cancellation Confirmation', method='GET')]"
      ]
     },
     "execution_count": 14,
     "metadata": {},
     "output_type": "execute_result"
    }
   ],
   "source": [
    "user_log.filter(user_log.auth==\"Cancelled\").select([\"auth\", \"page\", \"method\"]).dropDuplicates().collect()"
   ]
  },
  {
   "cell_type": "code",
   "execution_count": 15,
   "metadata": {},
   "outputs": [
    {
     "data": {
      "text/plain": [
       "[Row(userId='')]"
      ]
     },
     "execution_count": 15,
     "metadata": {},
     "output_type": "execute_result"
    }
   ],
   "source": [
    "user_log.filter(user_log.auth==\"Guest\").select([\"userId\"]).dropDuplicates().collect()"
   ]
  },
  {
   "cell_type": "code",
   "execution_count": 16,
   "metadata": {},
   "outputs": [
    {
     "data": {
      "text/plain": [
       "[Row(userId='')]"
      ]
     },
     "execution_count": 16,
     "metadata": {},
     "output_type": "execute_result"
    }
   ],
   "source": [
    "user_log.filter(user_log.auth==\"Logged Out\").select([\"userId\"]).dropDuplicates().collect()"
   ]
  },
  {
   "cell_type": "code",
   "execution_count": 17,
   "metadata": {},
   "outputs": [
    {
     "data": {
      "text/plain": [
       "[Row(auth='Logged In', page='Thumbs Up', method='PUT'),\n",
       " Row(auth='Logged In', page='Save Settings', method='PUT'),\n",
       " Row(auth='Logged In', page='Downgrade', method='GET'),\n",
       " Row(auth='Logged In', page='Add to Playlist', method='PUT'),\n",
       " Row(auth='Logged In', page='Add Friend', method='PUT'),\n",
       " Row(auth='Logged In', page='Submit Downgrade', method='PUT'),\n",
       " Row(auth='Logged In', page='About', method='GET'),\n",
       " Row(auth='Logged In', page='Cancel', method='PUT'),\n",
       " Row(auth='Logged In', page='Home', method='GET'),\n",
       " Row(auth='Logged In', page='Logout', method='PUT'),\n",
       " Row(auth='Logged In', page='Roll Advert', method='GET'),\n",
       " Row(auth='Logged In', page='Error', method='GET'),\n",
       " Row(auth='Logged In', page='NextSong', method='PUT'),\n",
       " Row(auth='Logged In', page='Settings', method='GET'),\n",
       " Row(auth='Logged In', page='Submit Upgrade', method='PUT'),\n",
       " Row(auth='Logged In', page='Thumbs Down', method='PUT'),\n",
       " Row(auth='Logged In', page='Upgrade', method='GET'),\n",
       " Row(auth='Logged In', page='Help', method='GET')]"
      ]
     },
     "execution_count": 17,
     "metadata": {},
     "output_type": "execute_result"
    }
   ],
   "source": [
    "user_log.filter(user_log.auth==\"Logged In\").select([\"auth\", \"page\", \"method\"]).dropDuplicates().collect()"
   ]
  },
  {
   "cell_type": "markdown",
   "metadata": {},
   "source": [
    "when users logged out, they can Error, Help, Home, Login, About. records with \"Logged Out\" has no userId\n",
    "\n",
    "guests can Help, Register, Home, submit registration, error, about. records with \"Guests\" has no userId\n",
    "\n",
    "when users cancel the service, auth=Cancelled, page=\"Cancellation Confirmation\""
   ]
  },
  {
   "cell_type": "code",
   "execution_count": 18,
   "metadata": {},
   "outputs": [
    {
     "data": {
      "text/plain": [
       "[Row(page='Add Friend', method='PUT'),\n",
       " Row(page='Logout', method='PUT'),\n",
       " Row(page='Submit Upgrade', method='PUT'),\n",
       " Row(page='Add to Playlist', method='PUT'),\n",
       " Row(page='Cancel', method='PUT'),\n",
       " Row(page='Submit Downgrade', method='PUT'),\n",
       " Row(page='Login', method='PUT'),\n",
       " Row(page='Save Settings', method='PUT'),\n",
       " Row(page='Thumbs Down', method='PUT'),\n",
       " Row(page='Submit Registration', method='PUT'),\n",
       " Row(page='NextSong', method='PUT'),\n",
       " Row(page='Thumbs Up', method='PUT')]"
      ]
     },
     "execution_count": 18,
     "metadata": {},
     "output_type": "execute_result"
    }
   ],
   "source": [
    "user_log.filter(user_log.method==\"PUT\").select([\"page\", \"method\"]).dropDuplicates().collect()"
   ]
  },
  {
   "cell_type": "code",
   "execution_count": 19,
   "metadata": {},
   "outputs": [
    {
     "data": {
      "text/plain": [
       "[Row(page='About', method='GET'),\n",
       " Row(page='Settings', method='GET'),\n",
       " Row(page='Help', method='GET'),\n",
       " Row(page='Downgrade', method='GET'),\n",
       " Row(page='Register', method='GET'),\n",
       " Row(page='Upgrade', method='GET'),\n",
       " Row(page='Error', method='GET'),\n",
       " Row(page='Cancellation Confirmation', method='GET'),\n",
       " Row(page='Home', method='GET'),\n",
       " Row(page='Roll Advert', method='GET')]"
      ]
     },
     "execution_count": 19,
     "metadata": {},
     "output_type": "execute_result"
    }
   ],
   "source": [
    "user_log.filter(user_log.method==\"GET\").select([\"page\", \"method\"]).dropDuplicates().collect()"
   ]
  },
  {
   "cell_type": "markdown",
   "metadata": {},
   "source": [
    "when could users receive 404"
   ]
  },
  {
   "cell_type": "code",
   "execution_count": 20,
   "metadata": {},
   "outputs": [
    {
     "data": {
      "text/plain": [
       "[Row(page='Error', method='GET')]"
      ]
     },
     "execution_count": 20,
     "metadata": {},
     "output_type": "execute_result"
    }
   ],
   "source": [
    "user_log.filter(user_log.status==404).select([\"page\", \"method\"]).dropDuplicates().collect()"
   ]
  },
  {
   "cell_type": "markdown",
   "metadata": {},
   "source": [
    "how often can users meet 404"
   ]
  },
  {
   "cell_type": "code",
   "execution_count": 21,
   "metadata": {},
   "outputs": [
    {
     "data": {
      "text/plain": [
       "258"
      ]
     },
     "execution_count": 21,
     "metadata": {},
     "output_type": "execute_result"
    }
   ],
   "source": [
    "user_log.filter(user_log.status==404).count()"
   ]
  },
  {
   "cell_type": "markdown",
   "metadata": {},
   "source": [
    "when could users receive 307"
   ]
  },
  {
   "cell_type": "code",
   "execution_count": 22,
   "metadata": {},
   "outputs": [
    {
     "data": {
      "text/plain": [
       "[Row(page='Add Friend', method='PUT'),\n",
       " Row(page='Logout', method='PUT'),\n",
       " Row(page='Submit Upgrade', method='PUT'),\n",
       " Row(page='Cancel', method='PUT'),\n",
       " Row(page='Submit Downgrade', method='PUT'),\n",
       " Row(page='Login', method='PUT'),\n",
       " Row(page='Save Settings', method='PUT'),\n",
       " Row(page='Thumbs Down', method='PUT'),\n",
       " Row(page='Submit Registration', method='PUT'),\n",
       " Row(page='Thumbs Up', method='PUT')]"
      ]
     },
     "execution_count": 22,
     "metadata": {},
     "output_type": "execute_result"
    }
   ],
   "source": [
    "user_log.filter(user_log.status==307).select([\"page\", \"method\"]).dropDuplicates().collect()"
   ]
  },
  {
   "cell_type": "markdown",
   "metadata": {},
   "source": [
    "how often users can meet 307"
   ]
  },
  {
   "cell_type": "code",
   "execution_count": 23,
   "metadata": {},
   "outputs": [
    {
     "data": {
      "text/plain": [
       "26430"
      ]
     },
     "execution_count": 23,
     "metadata": {},
     "output_type": "execute_result"
    }
   ],
   "source": [
    "user_log.filter(user_log.status==307).count()"
   ]
  },
  {
   "cell_type": "markdown",
   "metadata": {},
   "source": [
    "### check None, empty, nan values"
   ]
  },
  {
   "cell_type": "code",
   "execution_count": 24,
   "metadata": {},
   "outputs": [
    {
     "data": {
      "text/html": [
       "<div>\n",
       "<style scoped>\n",
       "    .dataframe tbody tr th:only-of-type {\n",
       "        vertical-align: middle;\n",
       "    }\n",
       "\n",
       "    .dataframe tbody tr th {\n",
       "        vertical-align: top;\n",
       "    }\n",
       "\n",
       "    .dataframe thead th {\n",
       "        text-align: right;\n",
       "    }\n",
       "</style>\n",
       "<table border=\"1\" class=\"dataframe\">\n",
       "  <thead>\n",
       "    <tr style=\"text-align: right;\">\n",
       "      <th></th>\n",
       "      <th>artist</th>\n",
       "      <th>auth</th>\n",
       "      <th>firstName</th>\n",
       "      <th>gender</th>\n",
       "      <th>itemInSession</th>\n",
       "      <th>lastName</th>\n",
       "      <th>length</th>\n",
       "      <th>level</th>\n",
       "      <th>location</th>\n",
       "      <th>method</th>\n",
       "      <th>page</th>\n",
       "      <th>registration</th>\n",
       "      <th>sessionId</th>\n",
       "      <th>song</th>\n",
       "      <th>status</th>\n",
       "      <th>ts</th>\n",
       "      <th>userAgent</th>\n",
       "      <th>userId</th>\n",
       "    </tr>\n",
       "  </thead>\n",
       "  <tbody>\n",
       "    <tr>\n",
       "      <th>0</th>\n",
       "      <td>0</td>\n",
       "      <td>0</td>\n",
       "      <td>0</td>\n",
       "      <td>0</td>\n",
       "      <td>0</td>\n",
       "      <td>0</td>\n",
       "      <td>0</td>\n",
       "      <td>0</td>\n",
       "      <td>0</td>\n",
       "      <td>0</td>\n",
       "      <td>0</td>\n",
       "      <td>0</td>\n",
       "      <td>0</td>\n",
       "      <td>0</td>\n",
       "      <td>0</td>\n",
       "      <td>0</td>\n",
       "      <td>0</td>\n",
       "      <td>0</td>\n",
       "    </tr>\n",
       "  </tbody>\n",
       "</table>\n",
       "</div>"
      ],
      "text/plain": [
       "   artist  auth  firstName  gender  itemInSession  lastName  length  level  \\\n",
       "0       0     0          0       0              0         0       0      0   \n",
       "\n",
       "   location  method  page  registration  sessionId  song  status  ts  \\\n",
       "0         0       0     0             0          0     0       0   0   \n",
       "\n",
       "   userAgent  userId  \n",
       "0          0       0  "
      ]
     },
     "execution_count": 24,
     "metadata": {},
     "output_type": "execute_result"
    }
   ],
   "source": [
    "user_log.select([count(when(isnan(c), c)).alias(c) for c in user_log.columns]).toPandas()"
   ]
  },
  {
   "cell_type": "code",
   "execution_count": 25,
   "metadata": {},
   "outputs": [
    {
     "data": {
      "text/html": [
       "<div>\n",
       "<style scoped>\n",
       "    .dataframe tbody tr th:only-of-type {\n",
       "        vertical-align: middle;\n",
       "    }\n",
       "\n",
       "    .dataframe tbody tr th {\n",
       "        vertical-align: top;\n",
       "    }\n",
       "\n",
       "    .dataframe thead th {\n",
       "        text-align: right;\n",
       "    }\n",
       "</style>\n",
       "<table border=\"1\" class=\"dataframe\">\n",
       "  <thead>\n",
       "    <tr style=\"text-align: right;\">\n",
       "      <th></th>\n",
       "      <th>artist</th>\n",
       "      <th>auth</th>\n",
       "      <th>firstName</th>\n",
       "      <th>gender</th>\n",
       "      <th>itemInSession</th>\n",
       "      <th>lastName</th>\n",
       "      <th>length</th>\n",
       "      <th>level</th>\n",
       "      <th>location</th>\n",
       "      <th>method</th>\n",
       "      <th>page</th>\n",
       "      <th>registration</th>\n",
       "      <th>sessionId</th>\n",
       "      <th>song</th>\n",
       "      <th>status</th>\n",
       "      <th>ts</th>\n",
       "      <th>userAgent</th>\n",
       "      <th>userId</th>\n",
       "    </tr>\n",
       "  </thead>\n",
       "  <tbody>\n",
       "    <tr>\n",
       "      <th>0</th>\n",
       "      <td>0</td>\n",
       "      <td>0</td>\n",
       "      <td>0</td>\n",
       "      <td>0</td>\n",
       "      <td>0</td>\n",
       "      <td>0</td>\n",
       "      <td>0</td>\n",
       "      <td>0</td>\n",
       "      <td>0</td>\n",
       "      <td>0</td>\n",
       "      <td>0</td>\n",
       "      <td>0</td>\n",
       "      <td>0</td>\n",
       "      <td>0</td>\n",
       "      <td>0</td>\n",
       "      <td>0</td>\n",
       "      <td>0</td>\n",
       "      <td>8346</td>\n",
       "    </tr>\n",
       "  </tbody>\n",
       "</table>\n",
       "</div>"
      ],
      "text/plain": [
       "   artist  auth  firstName  gender  itemInSession  lastName  length  level  \\\n",
       "0       0     0          0       0              0         0       0      0   \n",
       "\n",
       "   location  method  page  registration  sessionId  song  status  ts  \\\n",
       "0         0       0     0             0          0     0       0   0   \n",
       "\n",
       "   userAgent  userId  \n",
       "0          0    8346  "
      ]
     },
     "execution_count": 25,
     "metadata": {},
     "output_type": "execute_result"
    }
   ],
   "source": [
    "user_log.select([count(when(user_log[c]=='', c)).alias(c) for c in user_log.columns]).toPandas()"
   ]
  },
  {
   "cell_type": "code",
   "execution_count": 26,
   "metadata": {},
   "outputs": [
    {
     "data": {
      "text/html": [
       "<div>\n",
       "<style scoped>\n",
       "    .dataframe tbody tr th:only-of-type {\n",
       "        vertical-align: middle;\n",
       "    }\n",
       "\n",
       "    .dataframe tbody tr th {\n",
       "        vertical-align: top;\n",
       "    }\n",
       "\n",
       "    .dataframe thead th {\n",
       "        text-align: right;\n",
       "    }\n",
       "</style>\n",
       "<table border=\"1\" class=\"dataframe\">\n",
       "  <thead>\n",
       "    <tr style=\"text-align: right;\">\n",
       "      <th></th>\n",
       "      <th>artist</th>\n",
       "      <th>auth</th>\n",
       "      <th>firstName</th>\n",
       "      <th>gender</th>\n",
       "      <th>itemInSession</th>\n",
       "      <th>lastName</th>\n",
       "      <th>length</th>\n",
       "      <th>level</th>\n",
       "      <th>location</th>\n",
       "      <th>method</th>\n",
       "      <th>page</th>\n",
       "      <th>registration</th>\n",
       "      <th>sessionId</th>\n",
       "      <th>song</th>\n",
       "      <th>status</th>\n",
       "      <th>ts</th>\n",
       "      <th>userAgent</th>\n",
       "      <th>userId</th>\n",
       "    </tr>\n",
       "  </thead>\n",
       "  <tbody>\n",
       "    <tr>\n",
       "      <th>0</th>\n",
       "      <td>58392</td>\n",
       "      <td>0</td>\n",
       "      <td>8346</td>\n",
       "      <td>8346</td>\n",
       "      <td>0</td>\n",
       "      <td>8346</td>\n",
       "      <td>58392</td>\n",
       "      <td>0</td>\n",
       "      <td>8346</td>\n",
       "      <td>0</td>\n",
       "      <td>0</td>\n",
       "      <td>8346</td>\n",
       "      <td>0</td>\n",
       "      <td>58392</td>\n",
       "      <td>0</td>\n",
       "      <td>0</td>\n",
       "      <td>8346</td>\n",
       "      <td>0</td>\n",
       "    </tr>\n",
       "  </tbody>\n",
       "</table>\n",
       "</div>"
      ],
      "text/plain": [
       "   artist  auth  firstName  gender  itemInSession  lastName  length  level  \\\n",
       "0   58392     0       8346    8346              0      8346   58392      0   \n",
       "\n",
       "   location  method  page  registration  sessionId   song  status  ts  \\\n",
       "0      8346       0     0          8346          0  58392       0   0   \n",
       "\n",
       "   userAgent  userId  \n",
       "0       8346       0  "
      ]
     },
     "execution_count": 26,
     "metadata": {},
     "output_type": "execute_result"
    }
   ],
   "source": [
    "user_log.select([count(when(user_log[c].isNull(), c)).alias(c) for c in user_log.columns]).toPandas()"
   ]
  },
  {
   "cell_type": "code",
   "execution_count": 27,
   "metadata": {},
   "outputs": [
    {
     "data": {
      "text/html": [
       "<div>\n",
       "<style scoped>\n",
       "    .dataframe tbody tr th:only-of-type {\n",
       "        vertical-align: middle;\n",
       "    }\n",
       "\n",
       "    .dataframe tbody tr th {\n",
       "        vertical-align: top;\n",
       "    }\n",
       "\n",
       "    .dataframe thead th {\n",
       "        text-align: right;\n",
       "    }\n",
       "</style>\n",
       "<table border=\"1\" class=\"dataframe\">\n",
       "  <thead>\n",
       "    <tr style=\"text-align: right;\">\n",
       "      <th></th>\n",
       "      <th>page</th>\n",
       "      <th>auth</th>\n",
       "    </tr>\n",
       "  </thead>\n",
       "  <tbody>\n",
       "    <tr>\n",
       "      <th>0</th>\n",
       "      <td>Submit Registration</td>\n",
       "      <td>Guest</td>\n",
       "    </tr>\n",
       "    <tr>\n",
       "      <th>1</th>\n",
       "      <td>Error</td>\n",
       "      <td>Logged Out</td>\n",
       "    </tr>\n",
       "    <tr>\n",
       "      <th>2</th>\n",
       "      <td>Login</td>\n",
       "      <td>Logged Out</td>\n",
       "    </tr>\n",
       "    <tr>\n",
       "      <th>3</th>\n",
       "      <td>Help</td>\n",
       "      <td>Logged Out</td>\n",
       "    </tr>\n",
       "    <tr>\n",
       "      <th>4</th>\n",
       "      <td>Error</td>\n",
       "      <td>Guest</td>\n",
       "    </tr>\n",
       "    <tr>\n",
       "      <th>5</th>\n",
       "      <td>Home</td>\n",
       "      <td>Guest</td>\n",
       "    </tr>\n",
       "    <tr>\n",
       "      <th>6</th>\n",
       "      <td>Help</td>\n",
       "      <td>Guest</td>\n",
       "    </tr>\n",
       "    <tr>\n",
       "      <th>7</th>\n",
       "      <td>Home</td>\n",
       "      <td>Logged Out</td>\n",
       "    </tr>\n",
       "    <tr>\n",
       "      <th>8</th>\n",
       "      <td>About</td>\n",
       "      <td>Logged Out</td>\n",
       "    </tr>\n",
       "    <tr>\n",
       "      <th>9</th>\n",
       "      <td>Register</td>\n",
       "      <td>Guest</td>\n",
       "    </tr>\n",
       "    <tr>\n",
       "      <th>10</th>\n",
       "      <td>About</td>\n",
       "      <td>Guest</td>\n",
       "    </tr>\n",
       "  </tbody>\n",
       "</table>\n",
       "</div>"
      ],
      "text/plain": [
       "                   page        auth\n",
       "0   Submit Registration       Guest\n",
       "1                 Error  Logged Out\n",
       "2                 Login  Logged Out\n",
       "3                  Help  Logged Out\n",
       "4                 Error       Guest\n",
       "5                  Home       Guest\n",
       "6                  Help       Guest\n",
       "7                  Home  Logged Out\n",
       "8                 About  Logged Out\n",
       "9              Register       Guest\n",
       "10                About       Guest"
      ]
     },
     "execution_count": 27,
     "metadata": {},
     "output_type": "execute_result"
    }
   ],
   "source": [
    "user_log.filter(user_log.userId==\"\").select([\"page\",'auth']).dropDuplicates().toPandas()"
   ]
  },
  {
   "cell_type": "markdown",
   "metadata": {},
   "source": [
    "when auth==\"Logged In\" or \"Cancelled\", we have userId"
   ]
  },
  {
   "cell_type": "code",
   "execution_count": 28,
   "metadata": {},
   "outputs": [
    {
     "data": {
      "text/html": [
       "<div>\n",
       "<style scoped>\n",
       "    .dataframe tbody tr th:only-of-type {\n",
       "        vertical-align: middle;\n",
       "    }\n",
       "\n",
       "    .dataframe tbody tr th {\n",
       "        vertical-align: top;\n",
       "    }\n",
       "\n",
       "    .dataframe thead th {\n",
       "        text-align: right;\n",
       "    }\n",
       "</style>\n",
       "<table border=\"1\" class=\"dataframe\">\n",
       "  <thead>\n",
       "    <tr style=\"text-align: right;\">\n",
       "      <th></th>\n",
       "      <th>artist</th>\n",
       "      <th>auth</th>\n",
       "      <th>firstName</th>\n",
       "      <th>gender</th>\n",
       "      <th>itemInSession</th>\n",
       "      <th>lastName</th>\n",
       "      <th>length</th>\n",
       "      <th>level</th>\n",
       "      <th>location</th>\n",
       "      <th>method</th>\n",
       "      <th>page</th>\n",
       "      <th>registration</th>\n",
       "      <th>sessionId</th>\n",
       "      <th>song</th>\n",
       "      <th>status</th>\n",
       "      <th>ts</th>\n",
       "      <th>userAgent</th>\n",
       "      <th>userId</th>\n",
       "    </tr>\n",
       "  </thead>\n",
       "  <tbody>\n",
       "    <tr>\n",
       "      <th>0</th>\n",
       "      <td>None</td>\n",
       "      <td>Logged Out</td>\n",
       "      <td>None</td>\n",
       "      <td>None</td>\n",
       "      <td>100</td>\n",
       "      <td>None</td>\n",
       "      <td>None</td>\n",
       "      <td>free</td>\n",
       "      <td>None</td>\n",
       "      <td>GET</td>\n",
       "      <td>Home</td>\n",
       "      <td>None</td>\n",
       "      <td>8</td>\n",
       "      <td>None</td>\n",
       "      <td>200</td>\n",
       "      <td>1538355745000</td>\n",
       "      <td>None</td>\n",
       "      <td></td>\n",
       "    </tr>\n",
       "    <tr>\n",
       "      <th>1</th>\n",
       "      <td>None</td>\n",
       "      <td>Logged Out</td>\n",
       "      <td>None</td>\n",
       "      <td>None</td>\n",
       "      <td>101</td>\n",
       "      <td>None</td>\n",
       "      <td>None</td>\n",
       "      <td>free</td>\n",
       "      <td>None</td>\n",
       "      <td>GET</td>\n",
       "      <td>Help</td>\n",
       "      <td>None</td>\n",
       "      <td>8</td>\n",
       "      <td>None</td>\n",
       "      <td>200</td>\n",
       "      <td>1538355807000</td>\n",
       "      <td>None</td>\n",
       "      <td></td>\n",
       "    </tr>\n",
       "    <tr>\n",
       "      <th>2</th>\n",
       "      <td>None</td>\n",
       "      <td>Logged Out</td>\n",
       "      <td>None</td>\n",
       "      <td>None</td>\n",
       "      <td>102</td>\n",
       "      <td>None</td>\n",
       "      <td>None</td>\n",
       "      <td>free</td>\n",
       "      <td>None</td>\n",
       "      <td>GET</td>\n",
       "      <td>Home</td>\n",
       "      <td>None</td>\n",
       "      <td>8</td>\n",
       "      <td>None</td>\n",
       "      <td>200</td>\n",
       "      <td>1538355841000</td>\n",
       "      <td>None</td>\n",
       "      <td></td>\n",
       "    </tr>\n",
       "    <tr>\n",
       "      <th>3</th>\n",
       "      <td>None</td>\n",
       "      <td>Logged Out</td>\n",
       "      <td>None</td>\n",
       "      <td>None</td>\n",
       "      <td>103</td>\n",
       "      <td>None</td>\n",
       "      <td>None</td>\n",
       "      <td>free</td>\n",
       "      <td>None</td>\n",
       "      <td>PUT</td>\n",
       "      <td>Login</td>\n",
       "      <td>None</td>\n",
       "      <td>8</td>\n",
       "      <td>None</td>\n",
       "      <td>307</td>\n",
       "      <td>1538355842000</td>\n",
       "      <td>None</td>\n",
       "      <td></td>\n",
       "    </tr>\n",
       "    <tr>\n",
       "      <th>4</th>\n",
       "      <td>None</td>\n",
       "      <td>Logged Out</td>\n",
       "      <td>None</td>\n",
       "      <td>None</td>\n",
       "      <td>2</td>\n",
       "      <td>None</td>\n",
       "      <td>None</td>\n",
       "      <td>free</td>\n",
       "      <td>None</td>\n",
       "      <td>GET</td>\n",
       "      <td>Home</td>\n",
       "      <td>None</td>\n",
       "      <td>240</td>\n",
       "      <td>None</td>\n",
       "      <td>200</td>\n",
       "      <td>1538356678000</td>\n",
       "      <td>None</td>\n",
       "      <td></td>\n",
       "    </tr>\n",
       "  </tbody>\n",
       "</table>\n",
       "</div>"
      ],
      "text/plain": [
       "  artist        auth firstName gender  itemInSession lastName length level  \\\n",
       "0   None  Logged Out      None   None            100     None   None  free   \n",
       "1   None  Logged Out      None   None            101     None   None  free   \n",
       "2   None  Logged Out      None   None            102     None   None  free   \n",
       "3   None  Logged Out      None   None            103     None   None  free   \n",
       "4   None  Logged Out      None   None              2     None   None  free   \n",
       "\n",
       "  location method   page registration  sessionId  song  status             ts  \\\n",
       "0     None    GET   Home         None          8  None     200  1538355745000   \n",
       "1     None    GET   Help         None          8  None     200  1538355807000   \n",
       "2     None    GET   Home         None          8  None     200  1538355841000   \n",
       "3     None    PUT  Login         None          8  None     307  1538355842000   \n",
       "4     None    GET   Home         None        240  None     200  1538356678000   \n",
       "\n",
       "  userAgent userId  \n",
       "0      None         \n",
       "1      None         \n",
       "2      None         \n",
       "3      None         \n",
       "4      None         "
      ]
     },
     "execution_count": 28,
     "metadata": {},
     "output_type": "execute_result"
    }
   ],
   "source": [
    "user_log.filter(user_log.userId==\"\").limit(5).toPandas()"
   ]
  },
  {
   "cell_type": "code",
   "execution_count": 29,
   "metadata": {},
   "outputs": [
    {
     "data": {
      "text/html": [
       "<div>\n",
       "<style scoped>\n",
       "    .dataframe tbody tr th:only-of-type {\n",
       "        vertical-align: middle;\n",
       "    }\n",
       "\n",
       "    .dataframe tbody tr th {\n",
       "        vertical-align: top;\n",
       "    }\n",
       "\n",
       "    .dataframe thead th {\n",
       "        text-align: right;\n",
       "    }\n",
       "</style>\n",
       "<table border=\"1\" class=\"dataframe\">\n",
       "  <thead>\n",
       "    <tr style=\"text-align: right;\">\n",
       "      <th></th>\n",
       "      <th>page</th>\n",
       "      <th>auth</th>\n",
       "    </tr>\n",
       "  </thead>\n",
       "  <tbody>\n",
       "    <tr>\n",
       "      <th>0</th>\n",
       "      <td>NextSong</td>\n",
       "      <td>Logged In</td>\n",
       "    </tr>\n",
       "  </tbody>\n",
       "</table>\n",
       "</div>"
      ],
      "text/plain": [
       "       page       auth\n",
       "0  NextSong  Logged In"
      ]
     },
     "execution_count": 29,
     "metadata": {},
     "output_type": "execute_result"
    }
   ],
   "source": [
    "user_log.filter(user_log.song.isNotNull()).select(['page','auth']).dropDuplicates().toPandas()"
   ]
  },
  {
   "cell_type": "markdown",
   "metadata": {},
   "source": [
    "**only records with page being NextSong have information for songs**"
   ]
  },
  {
   "cell_type": "markdown",
   "metadata": {},
   "source": [
    "remove rows without userId"
   ]
  },
  {
   "cell_type": "code",
   "execution_count": 30,
   "metadata": {},
   "outputs": [],
   "source": [
    "user_log = user_log.filter(user_log.userId!=\"\")"
   ]
  },
  {
   "cell_type": "markdown",
   "metadata": {},
   "source": [
    "check if rows have been removed"
   ]
  },
  {
   "cell_type": "code",
   "execution_count": 31,
   "metadata": {},
   "outputs": [
    {
     "data": {
      "text/html": [
       "<div>\n",
       "<style scoped>\n",
       "    .dataframe tbody tr th:only-of-type {\n",
       "        vertical-align: middle;\n",
       "    }\n",
       "\n",
       "    .dataframe tbody tr th {\n",
       "        vertical-align: top;\n",
       "    }\n",
       "\n",
       "    .dataframe thead th {\n",
       "        text-align: right;\n",
       "    }\n",
       "</style>\n",
       "<table border=\"1\" class=\"dataframe\">\n",
       "  <thead>\n",
       "    <tr style=\"text-align: right;\">\n",
       "      <th></th>\n",
       "      <th>artist</th>\n",
       "      <th>auth</th>\n",
       "      <th>firstName</th>\n",
       "      <th>gender</th>\n",
       "      <th>itemInSession</th>\n",
       "      <th>lastName</th>\n",
       "      <th>length</th>\n",
       "      <th>level</th>\n",
       "      <th>location</th>\n",
       "      <th>method</th>\n",
       "      <th>page</th>\n",
       "      <th>registration</th>\n",
       "      <th>sessionId</th>\n",
       "      <th>song</th>\n",
       "      <th>status</th>\n",
       "      <th>ts</th>\n",
       "      <th>userAgent</th>\n",
       "      <th>userId</th>\n",
       "    </tr>\n",
       "  </thead>\n",
       "  <tbody>\n",
       "    <tr>\n",
       "      <th>0</th>\n",
       "      <td>50046</td>\n",
       "      <td>0</td>\n",
       "      <td>0</td>\n",
       "      <td>0</td>\n",
       "      <td>0</td>\n",
       "      <td>0</td>\n",
       "      <td>50046</td>\n",
       "      <td>0</td>\n",
       "      <td>0</td>\n",
       "      <td>0</td>\n",
       "      <td>0</td>\n",
       "      <td>0</td>\n",
       "      <td>0</td>\n",
       "      <td>50046</td>\n",
       "      <td>0</td>\n",
       "      <td>0</td>\n",
       "      <td>0</td>\n",
       "      <td>0</td>\n",
       "    </tr>\n",
       "  </tbody>\n",
       "</table>\n",
       "</div>"
      ],
      "text/plain": [
       "   artist  auth  firstName  gender  itemInSession  lastName  length  level  \\\n",
       "0   50046     0          0       0              0         0   50046      0   \n",
       "\n",
       "   location  method  page  registration  sessionId   song  status  ts  \\\n",
       "0         0       0     0             0          0  50046       0   0   \n",
       "\n",
       "   userAgent  userId  \n",
       "0          0       0  "
      ]
     },
     "execution_count": 31,
     "metadata": {},
     "output_type": "execute_result"
    }
   ],
   "source": [
    "user_log.select([count(when(user_log[c].isNull(), c)).alias(c) for c in user_log.columns]).toPandas()"
   ]
  },
  {
   "cell_type": "code",
   "execution_count": 32,
   "metadata": {},
   "outputs": [
    {
     "data": {
      "text/html": [
       "<div>\n",
       "<style scoped>\n",
       "    .dataframe tbody tr th:only-of-type {\n",
       "        vertical-align: middle;\n",
       "    }\n",
       "\n",
       "    .dataframe tbody tr th {\n",
       "        vertical-align: top;\n",
       "    }\n",
       "\n",
       "    .dataframe thead th {\n",
       "        text-align: right;\n",
       "    }\n",
       "</style>\n",
       "<table border=\"1\" class=\"dataframe\">\n",
       "  <thead>\n",
       "    <tr style=\"text-align: right;\">\n",
       "      <th></th>\n",
       "      <th>artist</th>\n",
       "      <th>auth</th>\n",
       "      <th>firstName</th>\n",
       "      <th>gender</th>\n",
       "      <th>itemInSession</th>\n",
       "      <th>lastName</th>\n",
       "      <th>length</th>\n",
       "      <th>level</th>\n",
       "      <th>location</th>\n",
       "      <th>method</th>\n",
       "      <th>page</th>\n",
       "      <th>registration</th>\n",
       "      <th>sessionId</th>\n",
       "      <th>song</th>\n",
       "      <th>status</th>\n",
       "      <th>ts</th>\n",
       "      <th>userAgent</th>\n",
       "      <th>userId</th>\n",
       "    </tr>\n",
       "  </thead>\n",
       "  <tbody>\n",
       "    <tr>\n",
       "      <th>0</th>\n",
       "      <td>0</td>\n",
       "      <td>0</td>\n",
       "      <td>0</td>\n",
       "      <td>0</td>\n",
       "      <td>0</td>\n",
       "      <td>0</td>\n",
       "      <td>0</td>\n",
       "      <td>0</td>\n",
       "      <td>0</td>\n",
       "      <td>0</td>\n",
       "      <td>0</td>\n",
       "      <td>0</td>\n",
       "      <td>0</td>\n",
       "      <td>0</td>\n",
       "      <td>0</td>\n",
       "      <td>0</td>\n",
       "      <td>0</td>\n",
       "      <td>0</td>\n",
       "    </tr>\n",
       "  </tbody>\n",
       "</table>\n",
       "</div>"
      ],
      "text/plain": [
       "   artist  auth  firstName  gender  itemInSession  lastName  length  level  \\\n",
       "0       0     0          0       0              0         0       0      0   \n",
       "\n",
       "   location  method  page  registration  sessionId  song  status  ts  \\\n",
       "0         0       0     0             0          0     0       0   0   \n",
       "\n",
       "   userAgent  userId  \n",
       "0          0       0  "
      ]
     },
     "execution_count": 32,
     "metadata": {},
     "output_type": "execute_result"
    }
   ],
   "source": [
    "user_log.select([count(when(user_log[c]=='', c)).alias(c) for c in user_log.columns]).toPandas()"
   ]
  },
  {
   "cell_type": "code",
   "execution_count": 33,
   "metadata": {},
   "outputs": [
    {
     "data": {
      "text/html": [
       "<div>\n",
       "<style scoped>\n",
       "    .dataframe tbody tr th:only-of-type {\n",
       "        vertical-align: middle;\n",
       "    }\n",
       "\n",
       "    .dataframe tbody tr th {\n",
       "        vertical-align: top;\n",
       "    }\n",
       "\n",
       "    .dataframe thead th {\n",
       "        text-align: right;\n",
       "    }\n",
       "</style>\n",
       "<table border=\"1\" class=\"dataframe\">\n",
       "  <thead>\n",
       "    <tr style=\"text-align: right;\">\n",
       "      <th></th>\n",
       "      <th>artist</th>\n",
       "      <th>auth</th>\n",
       "      <th>firstName</th>\n",
       "      <th>gender</th>\n",
       "      <th>itemInSession</th>\n",
       "      <th>lastName</th>\n",
       "      <th>length</th>\n",
       "      <th>level</th>\n",
       "      <th>location</th>\n",
       "      <th>method</th>\n",
       "      <th>page</th>\n",
       "      <th>registration</th>\n",
       "      <th>sessionId</th>\n",
       "      <th>song</th>\n",
       "      <th>status</th>\n",
       "      <th>ts</th>\n",
       "      <th>userAgent</th>\n",
       "      <th>userId</th>\n",
       "    </tr>\n",
       "  </thead>\n",
       "  <tbody>\n",
       "    <tr>\n",
       "      <th>0</th>\n",
       "      <td>None</td>\n",
       "      <td>Cancelled</td>\n",
       "      <td>Adriel</td>\n",
       "      <td>M</td>\n",
       "      <td>104</td>\n",
       "      <td>Mendoza</td>\n",
       "      <td>None</td>\n",
       "      <td>paid</td>\n",
       "      <td>Kansas City, MO-KS</td>\n",
       "      <td>GET</td>\n",
       "      <td>Cancellation Confirmation</td>\n",
       "      <td>1535623466000</td>\n",
       "      <td>514</td>\n",
       "      <td>None</td>\n",
       "      <td>200</td>\n",
       "      <td>1538943990000</td>\n",
       "      <td>\"Mozilla/5.0 (Macintosh; Intel Mac OS X 10_9_4...</td>\n",
       "      <td>18</td>\n",
       "    </tr>\n",
       "    <tr>\n",
       "      <th>1</th>\n",
       "      <td>None</td>\n",
       "      <td>Cancelled</td>\n",
       "      <td>Diego</td>\n",
       "      <td>M</td>\n",
       "      <td>56</td>\n",
       "      <td>Mckee</td>\n",
       "      <td>None</td>\n",
       "      <td>paid</td>\n",
       "      <td>Phoenix-Mesa-Scottsdale, AZ</td>\n",
       "      <td>GET</td>\n",
       "      <td>Cancellation Confirmation</td>\n",
       "      <td>1537167593000</td>\n",
       "      <td>540</td>\n",
       "      <td>None</td>\n",
       "      <td>200</td>\n",
       "      <td>1539033046000</td>\n",
       "      <td>\"Mozilla/5.0 (iPhone; CPU iPhone OS 7_1_2 like...</td>\n",
       "      <td>32</td>\n",
       "    </tr>\n",
       "    <tr>\n",
       "      <th>2</th>\n",
       "      <td>None</td>\n",
       "      <td>Cancelled</td>\n",
       "      <td>Mason</td>\n",
       "      <td>M</td>\n",
       "      <td>10</td>\n",
       "      <td>Hart</td>\n",
       "      <td>None</td>\n",
       "      <td>free</td>\n",
       "      <td>Corpus Christi, TX</td>\n",
       "      <td>GET</td>\n",
       "      <td>Cancellation Confirmation</td>\n",
       "      <td>1533157139000</td>\n",
       "      <td>174</td>\n",
       "      <td>None</td>\n",
       "      <td>200</td>\n",
       "      <td>1539318918000</td>\n",
       "      <td>\"Mozilla/5.0 (Macintosh; Intel Mac OS X 10_9_4...</td>\n",
       "      <td>125</td>\n",
       "    </tr>\n",
       "    <tr>\n",
       "      <th>3</th>\n",
       "      <td>None</td>\n",
       "      <td>Cancelled</td>\n",
       "      <td>Alexander</td>\n",
       "      <td>M</td>\n",
       "      <td>332</td>\n",
       "      <td>Garcia</td>\n",
       "      <td>None</td>\n",
       "      <td>paid</td>\n",
       "      <td>Indianapolis-Carmel-Anderson, IN</td>\n",
       "      <td>GET</td>\n",
       "      <td>Cancellation Confirmation</td>\n",
       "      <td>1536817381000</td>\n",
       "      <td>508</td>\n",
       "      <td>None</td>\n",
       "      <td>200</td>\n",
       "      <td>1539375441000</td>\n",
       "      <td>Mozilla/5.0 (Windows NT 6.1; WOW64; rv:31.0) G...</td>\n",
       "      <td>105</td>\n",
       "    </tr>\n",
       "    <tr>\n",
       "      <th>4</th>\n",
       "      <td>None</td>\n",
       "      <td>Cancelled</td>\n",
       "      <td>Kayla</td>\n",
       "      <td>F</td>\n",
       "      <td>273</td>\n",
       "      <td>Johnson</td>\n",
       "      <td>None</td>\n",
       "      <td>paid</td>\n",
       "      <td>Philadelphia-Camden-Wilmington, PA-NJ-DE-MD</td>\n",
       "      <td>GET</td>\n",
       "      <td>Cancellation Confirmation</td>\n",
       "      <td>1538333829000</td>\n",
       "      <td>797</td>\n",
       "      <td>None</td>\n",
       "      <td>200</td>\n",
       "      <td>1539465584000</td>\n",
       "      <td>Mozilla/5.0 (Windows NT 6.1; WOW64; rv:24.0) G...</td>\n",
       "      <td>17</td>\n",
       "    </tr>\n",
       "  </tbody>\n",
       "</table>\n",
       "</div>"
      ],
      "text/plain": [
       "  artist       auth  firstName gender  itemInSession lastName length level  \\\n",
       "0   None  Cancelled     Adriel      M            104  Mendoza   None  paid   \n",
       "1   None  Cancelled      Diego      M             56    Mckee   None  paid   \n",
       "2   None  Cancelled      Mason      M             10     Hart   None  free   \n",
       "3   None  Cancelled  Alexander      M            332   Garcia   None  paid   \n",
       "4   None  Cancelled      Kayla      F            273  Johnson   None  paid   \n",
       "\n",
       "                                      location method  \\\n",
       "0                           Kansas City, MO-KS    GET   \n",
       "1                  Phoenix-Mesa-Scottsdale, AZ    GET   \n",
       "2                           Corpus Christi, TX    GET   \n",
       "3             Indianapolis-Carmel-Anderson, IN    GET   \n",
       "4  Philadelphia-Camden-Wilmington, PA-NJ-DE-MD    GET   \n",
       "\n",
       "                        page   registration  sessionId  song  status  \\\n",
       "0  Cancellation Confirmation  1535623466000        514  None     200   \n",
       "1  Cancellation Confirmation  1537167593000        540  None     200   \n",
       "2  Cancellation Confirmation  1533157139000        174  None     200   \n",
       "3  Cancellation Confirmation  1536817381000        508  None     200   \n",
       "4  Cancellation Confirmation  1538333829000        797  None     200   \n",
       "\n",
       "              ts                                          userAgent userId  \n",
       "0  1538943990000  \"Mozilla/5.0 (Macintosh; Intel Mac OS X 10_9_4...     18  \n",
       "1  1539033046000  \"Mozilla/5.0 (iPhone; CPU iPhone OS 7_1_2 like...     32  \n",
       "2  1539318918000  \"Mozilla/5.0 (Macintosh; Intel Mac OS X 10_9_4...    125  \n",
       "3  1539375441000  Mozilla/5.0 (Windows NT 6.1; WOW64; rv:31.0) G...    105  \n",
       "4  1539465584000  Mozilla/5.0 (Windows NT 6.1; WOW64; rv:24.0) G...     17  "
      ]
     },
     "execution_count": 33,
     "metadata": {},
     "output_type": "execute_result"
    }
   ],
   "source": [
    "user_log.filter(user_log.auth==\"Cancelled\").limit(5).toPandas()"
   ]
  },
  {
   "cell_type": "code",
   "execution_count": 34,
   "metadata": {},
   "outputs": [
    {
     "data": {
      "text/html": [
       "<div>\n",
       "<style scoped>\n",
       "    .dataframe tbody tr th:only-of-type {\n",
       "        vertical-align: middle;\n",
       "    }\n",
       "\n",
       "    .dataframe tbody tr th {\n",
       "        vertical-align: top;\n",
       "    }\n",
       "\n",
       "    .dataframe thead th {\n",
       "        text-align: right;\n",
       "    }\n",
       "</style>\n",
       "<table border=\"1\" class=\"dataframe\">\n",
       "  <thead>\n",
       "    <tr style=\"text-align: right;\">\n",
       "      <th></th>\n",
       "      <th>artist</th>\n",
       "      <th>auth</th>\n",
       "      <th>firstName</th>\n",
       "      <th>gender</th>\n",
       "      <th>itemInSession</th>\n",
       "      <th>lastName</th>\n",
       "      <th>length</th>\n",
       "      <th>level</th>\n",
       "      <th>location</th>\n",
       "      <th>method</th>\n",
       "      <th>page</th>\n",
       "      <th>registration</th>\n",
       "      <th>sessionId</th>\n",
       "      <th>song</th>\n",
       "      <th>status</th>\n",
       "      <th>ts</th>\n",
       "      <th>userAgent</th>\n",
       "      <th>userId</th>\n",
       "    </tr>\n",
       "  </thead>\n",
       "  <tbody>\n",
       "    <tr>\n",
       "      <th>0</th>\n",
       "      <td>None</td>\n",
       "      <td>Logged In</td>\n",
       "      <td>Alexi</td>\n",
       "      <td>F</td>\n",
       "      <td>4</td>\n",
       "      <td>Warren</td>\n",
       "      <td>None</td>\n",
       "      <td>paid</td>\n",
       "      <td>Spokane-Spokane Valley, WA</td>\n",
       "      <td>GET</td>\n",
       "      <td>Downgrade</td>\n",
       "      <td>1532482662000</td>\n",
       "      <td>53</td>\n",
       "      <td>None</td>\n",
       "      <td>200</td>\n",
       "      <td>1538354749000</td>\n",
       "      <td>Mozilla/5.0 (Windows NT 6.1; WOW64; rv:32.0) G...</td>\n",
       "      <td>54</td>\n",
       "    </tr>\n",
       "    <tr>\n",
       "      <th>1</th>\n",
       "      <td>None</td>\n",
       "      <td>Logged In</td>\n",
       "      <td>Faigy</td>\n",
       "      <td>F</td>\n",
       "      <td>29</td>\n",
       "      <td>Howe</td>\n",
       "      <td>None</td>\n",
       "      <td>paid</td>\n",
       "      <td>Phoenix-Mesa-Scottsdale, AZ</td>\n",
       "      <td>GET</td>\n",
       "      <td>Downgrade</td>\n",
       "      <td>1538211832000</td>\n",
       "      <td>248</td>\n",
       "      <td>None</td>\n",
       "      <td>200</td>\n",
       "      <td>1538373286000</td>\n",
       "      <td>Mozilla/5.0 (Macintosh; Intel Mac OS X 10.9; r...</td>\n",
       "      <td>95</td>\n",
       "    </tr>\n",
       "    <tr>\n",
       "      <th>2</th>\n",
       "      <td>None</td>\n",
       "      <td>Logged In</td>\n",
       "      <td>Faigy</td>\n",
       "      <td>F</td>\n",
       "      <td>115</td>\n",
       "      <td>Howe</td>\n",
       "      <td>None</td>\n",
       "      <td>paid</td>\n",
       "      <td>Phoenix-Mesa-Scottsdale, AZ</td>\n",
       "      <td>GET</td>\n",
       "      <td>Downgrade</td>\n",
       "      <td>1538211832000</td>\n",
       "      <td>248</td>\n",
       "      <td>None</td>\n",
       "      <td>200</td>\n",
       "      <td>1538392612000</td>\n",
       "      <td>Mozilla/5.0 (Macintosh; Intel Mac OS X 10.9; r...</td>\n",
       "      <td>95</td>\n",
       "    </tr>\n",
       "    <tr>\n",
       "      <th>3</th>\n",
       "      <td>None</td>\n",
       "      <td>Logged In</td>\n",
       "      <td>Kael</td>\n",
       "      <td>M</td>\n",
       "      <td>46</td>\n",
       "      <td>Baker</td>\n",
       "      <td>None</td>\n",
       "      <td>paid</td>\n",
       "      <td>Kingsport-Bristol-Bristol, TN-VA</td>\n",
       "      <td>GET</td>\n",
       "      <td>Downgrade</td>\n",
       "      <td>1533102330000</td>\n",
       "      <td>249</td>\n",
       "      <td>None</td>\n",
       "      <td>200</td>\n",
       "      <td>1538393618000</td>\n",
       "      <td>\"Mozilla/5.0 (Macintosh; Intel Mac OS X 10_9_4...</td>\n",
       "      <td>131</td>\n",
       "    </tr>\n",
       "    <tr>\n",
       "      <th>4</th>\n",
       "      <td>None</td>\n",
       "      <td>Logged In</td>\n",
       "      <td>Faigy</td>\n",
       "      <td>F</td>\n",
       "      <td>125</td>\n",
       "      <td>Howe</td>\n",
       "      <td>None</td>\n",
       "      <td>paid</td>\n",
       "      <td>Phoenix-Mesa-Scottsdale, AZ</td>\n",
       "      <td>GET</td>\n",
       "      <td>Downgrade</td>\n",
       "      <td>1538211832000</td>\n",
       "      <td>248</td>\n",
       "      <td>None</td>\n",
       "      <td>200</td>\n",
       "      <td>1538393664000</td>\n",
       "      <td>Mozilla/5.0 (Macintosh; Intel Mac OS X 10.9; r...</td>\n",
       "      <td>95</td>\n",
       "    </tr>\n",
       "  </tbody>\n",
       "</table>\n",
       "</div>"
      ],
      "text/plain": [
       "  artist       auth firstName gender  itemInSession lastName length level  \\\n",
       "0   None  Logged In     Alexi      F              4   Warren   None  paid   \n",
       "1   None  Logged In     Faigy      F             29     Howe   None  paid   \n",
       "2   None  Logged In     Faigy      F            115     Howe   None  paid   \n",
       "3   None  Logged In      Kael      M             46    Baker   None  paid   \n",
       "4   None  Logged In     Faigy      F            125     Howe   None  paid   \n",
       "\n",
       "                           location method       page   registration  \\\n",
       "0        Spokane-Spokane Valley, WA    GET  Downgrade  1532482662000   \n",
       "1       Phoenix-Mesa-Scottsdale, AZ    GET  Downgrade  1538211832000   \n",
       "2       Phoenix-Mesa-Scottsdale, AZ    GET  Downgrade  1538211832000   \n",
       "3  Kingsport-Bristol-Bristol, TN-VA    GET  Downgrade  1533102330000   \n",
       "4       Phoenix-Mesa-Scottsdale, AZ    GET  Downgrade  1538211832000   \n",
       "\n",
       "   sessionId  song  status             ts  \\\n",
       "0         53  None     200  1538354749000   \n",
       "1        248  None     200  1538373286000   \n",
       "2        248  None     200  1538392612000   \n",
       "3        249  None     200  1538393618000   \n",
       "4        248  None     200  1538393664000   \n",
       "\n",
       "                                           userAgent userId  \n",
       "0  Mozilla/5.0 (Windows NT 6.1; WOW64; rv:32.0) G...     54  \n",
       "1  Mozilla/5.0 (Macintosh; Intel Mac OS X 10.9; r...     95  \n",
       "2  Mozilla/5.0 (Macintosh; Intel Mac OS X 10.9; r...     95  \n",
       "3  \"Mozilla/5.0 (Macintosh; Intel Mac OS X 10_9_4...    131  \n",
       "4  Mozilla/5.0 (Macintosh; Intel Mac OS X 10.9; r...     95  "
      ]
     },
     "execution_count": 34,
     "metadata": {},
     "output_type": "execute_result"
    }
   ],
   "source": [
    "user_log.filter(user_log.page==\"Downgrade\").limit(5).toPandas()"
   ]
  },
  {
   "cell_type": "code",
   "execution_count": 35,
   "metadata": {},
   "outputs": [
    {
     "data": {
      "text/plain": [
       "278154"
      ]
     },
     "execution_count": 35,
     "metadata": {},
     "output_type": "execute_result"
    }
   ],
   "source": [
    "user_log.count()"
   ]
  },
  {
   "cell_type": "code",
   "execution_count": 36,
   "metadata": {},
   "outputs": [
    {
     "data": {
      "text/plain": [
       "[Row(page='NextSong', userId='125', ts=1539317144000),\n",
       " Row(page='NextSong', userId='125', ts=1539317481000),\n",
       " Row(page='NextSong', userId='125', ts=1539317711000),\n",
       " Row(page='NextSong', userId='125', ts=1539317914000),\n",
       " Row(page='NextSong', userId='125', ts=1539318124000),\n",
       " Row(page='NextSong', userId='125', ts=1539318515000),\n",
       " Row(page='NextSong', userId='125', ts=1539318728000),\n",
       " Row(page='NextSong', userId='125', ts=1539318906000),\n",
       " Row(page='Roll Advert', userId='125', ts=1539318917000),\n",
       " Row(page='Cancel', userId='125', ts=1539318918000),\n",
       " Row(page='Cancellation Confirmation', userId='125', ts=1539318918000)]"
      ]
     },
     "execution_count": 36,
     "metadata": {},
     "output_type": "execute_result"
    }
   ],
   "source": [
    "user_log.select([\"page\", \"userId\", \"ts\"]).filter(user_log.userId==\"125\").collect()"
   ]
  },
  {
   "cell_type": "markdown",
   "metadata": {},
   "source": [
    "# Exploratory Data Analysis\n",
    "When you're working with the full dataset, perform EDA by loading a small subset of the data and doing basic manipulations within Spark. In this workspace, you are already provided a small subset of data you can explore.\n",
    "\n",
    "### Define Churn\n",
    "\n",
    "Once you've done some preliminary analysis, create a column `Churn` to use as the label for your model. I suggest using the `Cancellation Confirmation` events to define your churn, which happen for both paid and free users. As a bonus task, you can also look into the `Downgrade` events.\n",
    "\n",
    "### Explore Data\n",
    "Once you've defined churn, perform some exploratory data analysis to observe the behavior for users who stayed vs users who churned. You can start by exploring aggregates on these two groups of users, observing how much of a specific action they experienced per a certain time unit or number of songs played."
   ]
  },
  {
   "cell_type": "code",
   "execution_count": 37,
   "metadata": {},
   "outputs": [
    {
     "data": {
      "text/html": [
       "<div>\n",
       "<style scoped>\n",
       "    .dataframe tbody tr th:only-of-type {\n",
       "        vertical-align: middle;\n",
       "    }\n",
       "\n",
       "    .dataframe tbody tr th {\n",
       "        vertical-align: top;\n",
       "    }\n",
       "\n",
       "    .dataframe thead th {\n",
       "        text-align: right;\n",
       "    }\n",
       "</style>\n",
       "<table border=\"1\" class=\"dataframe\">\n",
       "  <thead>\n",
       "    <tr style=\"text-align: right;\">\n",
       "      <th></th>\n",
       "      <th>artist</th>\n",
       "      <th>auth</th>\n",
       "      <th>firstName</th>\n",
       "      <th>gender</th>\n",
       "      <th>itemInSession</th>\n",
       "      <th>lastName</th>\n",
       "      <th>length</th>\n",
       "      <th>level</th>\n",
       "      <th>location</th>\n",
       "      <th>method</th>\n",
       "      <th>...</th>\n",
       "      <th>registration</th>\n",
       "      <th>sessionId</th>\n",
       "      <th>song</th>\n",
       "      <th>status</th>\n",
       "      <th>ts</th>\n",
       "      <th>userAgent</th>\n",
       "      <th>userId</th>\n",
       "      <th>Churn</th>\n",
       "      <th>Downgrade</th>\n",
       "      <th>IsPaidUser</th>\n",
       "    </tr>\n",
       "  </thead>\n",
       "  <tbody>\n",
       "    <tr>\n",
       "      <th>0</th>\n",
       "      <td>Martha Tilston</td>\n",
       "      <td>Logged In</td>\n",
       "      <td>Colin</td>\n",
       "      <td>M</td>\n",
       "      <td>50</td>\n",
       "      <td>Freeman</td>\n",
       "      <td>277.89016</td>\n",
       "      <td>paid</td>\n",
       "      <td>Bakersfield, CA</td>\n",
       "      <td>PUT</td>\n",
       "      <td>...</td>\n",
       "      <td>1538173362000</td>\n",
       "      <td>29</td>\n",
       "      <td>Rockpools</td>\n",
       "      <td>200</td>\n",
       "      <td>1538352117000</td>\n",
       "      <td>Mozilla/5.0 (Windows NT 6.1; WOW64; rv:31.0) G...</td>\n",
       "      <td>30</td>\n",
       "      <td>0</td>\n",
       "      <td>0</td>\n",
       "      <td>1</td>\n",
       "    </tr>\n",
       "    <tr>\n",
       "      <th>1</th>\n",
       "      <td>Five Iron Frenzy</td>\n",
       "      <td>Logged In</td>\n",
       "      <td>Micah</td>\n",
       "      <td>M</td>\n",
       "      <td>79</td>\n",
       "      <td>Long</td>\n",
       "      <td>236.09424</td>\n",
       "      <td>free</td>\n",
       "      <td>Boston-Cambridge-Newton, MA-NH</td>\n",
       "      <td>PUT</td>\n",
       "      <td>...</td>\n",
       "      <td>1538331630000</td>\n",
       "      <td>8</td>\n",
       "      <td>Canada</td>\n",
       "      <td>200</td>\n",
       "      <td>1538352180000</td>\n",
       "      <td>\"Mozilla/5.0 (Windows NT 6.1; WOW64) AppleWebK...</td>\n",
       "      <td>9</td>\n",
       "      <td>0</td>\n",
       "      <td>0</td>\n",
       "      <td>0</td>\n",
       "    </tr>\n",
       "    <tr>\n",
       "      <th>2</th>\n",
       "      <td>Adam Lambert</td>\n",
       "      <td>Logged In</td>\n",
       "      <td>Colin</td>\n",
       "      <td>M</td>\n",
       "      <td>51</td>\n",
       "      <td>Freeman</td>\n",
       "      <td>282.82730</td>\n",
       "      <td>paid</td>\n",
       "      <td>Bakersfield, CA</td>\n",
       "      <td>PUT</td>\n",
       "      <td>...</td>\n",
       "      <td>1538173362000</td>\n",
       "      <td>29</td>\n",
       "      <td>Time For Miracles</td>\n",
       "      <td>200</td>\n",
       "      <td>1538352394000</td>\n",
       "      <td>Mozilla/5.0 (Windows NT 6.1; WOW64; rv:31.0) G...</td>\n",
       "      <td>30</td>\n",
       "      <td>0</td>\n",
       "      <td>0</td>\n",
       "      <td>1</td>\n",
       "    </tr>\n",
       "    <tr>\n",
       "      <th>3</th>\n",
       "      <td>Enigma</td>\n",
       "      <td>Logged In</td>\n",
       "      <td>Micah</td>\n",
       "      <td>M</td>\n",
       "      <td>80</td>\n",
       "      <td>Long</td>\n",
       "      <td>262.71302</td>\n",
       "      <td>free</td>\n",
       "      <td>Boston-Cambridge-Newton, MA-NH</td>\n",
       "      <td>PUT</td>\n",
       "      <td>...</td>\n",
       "      <td>1538331630000</td>\n",
       "      <td>8</td>\n",
       "      <td>Knocking On Forbidden Doors</td>\n",
       "      <td>200</td>\n",
       "      <td>1538352416000</td>\n",
       "      <td>\"Mozilla/5.0 (Windows NT 6.1; WOW64) AppleWebK...</td>\n",
       "      <td>9</td>\n",
       "      <td>0</td>\n",
       "      <td>0</td>\n",
       "      <td>0</td>\n",
       "    </tr>\n",
       "    <tr>\n",
       "      <th>4</th>\n",
       "      <td>Daft Punk</td>\n",
       "      <td>Logged In</td>\n",
       "      <td>Colin</td>\n",
       "      <td>M</td>\n",
       "      <td>52</td>\n",
       "      <td>Freeman</td>\n",
       "      <td>223.60771</td>\n",
       "      <td>paid</td>\n",
       "      <td>Bakersfield, CA</td>\n",
       "      <td>PUT</td>\n",
       "      <td>...</td>\n",
       "      <td>1538173362000</td>\n",
       "      <td>29</td>\n",
       "      <td>Harder Better Faster Stronger</td>\n",
       "      <td>200</td>\n",
       "      <td>1538352676000</td>\n",
       "      <td>Mozilla/5.0 (Windows NT 6.1; WOW64; rv:31.0) G...</td>\n",
       "      <td>30</td>\n",
       "      <td>0</td>\n",
       "      <td>0</td>\n",
       "      <td>1</td>\n",
       "    </tr>\n",
       "  </tbody>\n",
       "</table>\n",
       "<p>5 rows × 21 columns</p>\n",
       "</div>"
      ],
      "text/plain": [
       "             artist       auth firstName gender  itemInSession lastName  \\\n",
       "0    Martha Tilston  Logged In     Colin      M             50  Freeman   \n",
       "1  Five Iron Frenzy  Logged In     Micah      M             79     Long   \n",
       "2      Adam Lambert  Logged In     Colin      M             51  Freeman   \n",
       "3            Enigma  Logged In     Micah      M             80     Long   \n",
       "4         Daft Punk  Logged In     Colin      M             52  Freeman   \n",
       "\n",
       "      length level                        location method     ...      \\\n",
       "0  277.89016  paid                 Bakersfield, CA    PUT     ...       \n",
       "1  236.09424  free  Boston-Cambridge-Newton, MA-NH    PUT     ...       \n",
       "2  282.82730  paid                 Bakersfield, CA    PUT     ...       \n",
       "3  262.71302  free  Boston-Cambridge-Newton, MA-NH    PUT     ...       \n",
       "4  223.60771  paid                 Bakersfield, CA    PUT     ...       \n",
       "\n",
       "    registration  sessionId                           song status  \\\n",
       "0  1538173362000         29                      Rockpools    200   \n",
       "1  1538331630000          8                         Canada    200   \n",
       "2  1538173362000         29              Time For Miracles    200   \n",
       "3  1538331630000          8    Knocking On Forbidden Doors    200   \n",
       "4  1538173362000         29  Harder Better Faster Stronger    200   \n",
       "\n",
       "              ts                                          userAgent userId  \\\n",
       "0  1538352117000  Mozilla/5.0 (Windows NT 6.1; WOW64; rv:31.0) G...     30   \n",
       "1  1538352180000  \"Mozilla/5.0 (Windows NT 6.1; WOW64) AppleWebK...      9   \n",
       "2  1538352394000  Mozilla/5.0 (Windows NT 6.1; WOW64; rv:31.0) G...     30   \n",
       "3  1538352416000  \"Mozilla/5.0 (Windows NT 6.1; WOW64) AppleWebK...      9   \n",
       "4  1538352676000  Mozilla/5.0 (Windows NT 6.1; WOW64; rv:31.0) G...     30   \n",
       "\n",
       "  Churn  Downgrade  IsPaidUser  \n",
       "0     0          0           1  \n",
       "1     0          0           0  \n",
       "2     0          0           1  \n",
       "3     0          0           0  \n",
       "4     0          0           1  \n",
       "\n",
       "[5 rows x 21 columns]"
      ]
     },
     "execution_count": 37,
     "metadata": {},
     "output_type": "execute_result"
    }
   ],
   "source": [
    "user_log = user_log.withColumn(\"Churn\", when(user_log.page==\"Cancellation Confirmation\", 1).otherwise(0))\n",
    "user_log = user_log.withColumn(\"Downgrade\", when(user_log.page==\"Downgrade\", 1).otherwise(0))\n",
    "user_log = user_log.withColumn(\"IsPaidUser\", when(user_log.level=='paid', 1).otherwise(0))\n",
    "user_log.limit(5).toPandas()"
   ]
  },
  {
   "cell_type": "markdown",
   "metadata": {},
   "source": [
    "# Feature Engineering\n",
    "Once you've familiarized yourself with the data, build out the features you find promising to train your model on. To work with the full dataset, you can follow the following steps.\n",
    "- Write a script to extract the necessary features from the smaller subset of data\n",
    "- Ensure that your script is scalable, using the best practices discussed in Lesson 3\n",
    "- Try your script on the full data set, debugging your script if necessary\n",
    "\n",
    "If you are working in the classroom workspace, you can just extract features based on the small subset of data contained here. Be sure to transfer over this work to the larger dataset when you work on your Spark cluster."
   ]
  },
  {
   "cell_type": "markdown",
   "metadata": {},
   "source": [
    "**features:**\n",
    "1. ever downgrad\n",
    "2. change of number of songs listened every session\n",
    "3. login in last n weeks\n",
    "4. number of thumbs down\n",
    "5. num_thumbs_down/num_thumbs_up\n",
    "6. num of errors\n",
    "7. last login time"
   ]
  },
  {
   "cell_type": "code",
   "execution_count": 60,
   "metadata": {
    "scrolled": false
   },
   "outputs": [
    {
     "data": {
      "text/html": [
       "<div>\n",
       "<style scoped>\n",
       "    .dataframe tbody tr th:only-of-type {\n",
       "        vertical-align: middle;\n",
       "    }\n",
       "\n",
       "    .dataframe tbody tr th {\n",
       "        vertical-align: top;\n",
       "    }\n",
       "\n",
       "    .dataframe thead th {\n",
       "        text-align: right;\n",
       "    }\n",
       "</style>\n",
       "<table border=\"1\" class=\"dataframe\">\n",
       "  <thead>\n",
       "    <tr style=\"text-align: right;\">\n",
       "      <th></th>\n",
       "      <th>userId</th>\n",
       "      <th>ratio_thumbs_up</th>\n",
       "      <th>sum(Downgrade)</th>\n",
       "      <th>sum(song)</th>\n",
       "      <th>sum(song_last_week)</th>\n",
       "      <th>ratio_thumbs_down_last_week</th>\n",
       "      <th>Churned</th>\n",
       "      <th>ratio_error</th>\n",
       "      <th>EverPay</th>\n",
       "      <th>last_login</th>\n",
       "      <th>ratio_thumbs_up_last_week</th>\n",
       "      <th>ratio_error_last_week</th>\n",
       "      <th>ratio_thumbs_down</th>\n",
       "    </tr>\n",
       "  </thead>\n",
       "  <tbody>\n",
       "    <tr>\n",
       "      <th>0</th>\n",
       "      <td>100010</td>\n",
       "      <td>0.061818</td>\n",
       "      <td>0</td>\n",
       "      <td>275</td>\n",
       "      <td>0</td>\n",
       "      <td>0.00000</td>\n",
       "      <td>0</td>\n",
       "      <td>0.000000</td>\n",
       "      <td>0</td>\n",
       "      <td>11.290787</td>\n",
       "      <td>0.000000</td>\n",
       "      <td>0.00000</td>\n",
       "      <td>0.018182</td>\n",
       "    </tr>\n",
       "    <tr>\n",
       "      <th>1</th>\n",
       "      <td>200002</td>\n",
       "      <td>0.054264</td>\n",
       "      <td>5</td>\n",
       "      <td>387</td>\n",
       "      <td>0</td>\n",
       "      <td>0.00000</td>\n",
       "      <td>0</td>\n",
       "      <td>0.000000</td>\n",
       "      <td>1</td>\n",
       "      <td>17.073171</td>\n",
       "      <td>0.000000</td>\n",
       "      <td>0.00000</td>\n",
       "      <td>0.015504</td>\n",
       "    </tr>\n",
       "    <tr>\n",
       "      <th>2</th>\n",
       "      <td>125</td>\n",
       "      <td>0.000000</td>\n",
       "      <td>0</td>\n",
       "      <td>8</td>\n",
       "      <td>0</td>\n",
       "      <td>0.00000</td>\n",
       "      <td>1</td>\n",
       "      <td>0.000000</td>\n",
       "      <td>0</td>\n",
       "      <td>51.858310</td>\n",
       "      <td>0.000000</td>\n",
       "      <td>0.00000</td>\n",
       "      <td>0.000000</td>\n",
       "    </tr>\n",
       "    <tr>\n",
       "      <th>3</th>\n",
       "      <td>51</td>\n",
       "      <td>0.047371</td>\n",
       "      <td>23</td>\n",
       "      <td>2111</td>\n",
       "      <td>0</td>\n",
       "      <td>0.00000</td>\n",
       "      <td>1</td>\n",
       "      <td>0.000474</td>\n",
       "      <td>1</td>\n",
       "      <td>46.730370</td>\n",
       "      <td>0.000000</td>\n",
       "      <td>0.00000</td>\n",
       "      <td>0.009948</td>\n",
       "    </tr>\n",
       "    <tr>\n",
       "      <th>4</th>\n",
       "      <td>124</td>\n",
       "      <td>0.041922</td>\n",
       "      <td>41</td>\n",
       "      <td>4079</td>\n",
       "      <td>216</td>\n",
       "      <td>0.00463</td>\n",
       "      <td>0</td>\n",
       "      <td>0.001471</td>\n",
       "      <td>1</td>\n",
       "      <td>2.415625</td>\n",
       "      <td>0.060185</td>\n",
       "      <td>0.00463</td>\n",
       "      <td>0.010051</td>\n",
       "    </tr>\n",
       "  </tbody>\n",
       "</table>\n",
       "</div>"
      ],
      "text/plain": [
       "   userId  ratio_thumbs_up  sum(Downgrade)  sum(song)  sum(song_last_week)  \\\n",
       "0  100010         0.061818               0        275                    0   \n",
       "1  200002         0.054264               5        387                    0   \n",
       "2     125         0.000000               0          8                    0   \n",
       "3      51         0.047371              23       2111                    0   \n",
       "4     124         0.041922              41       4079                  216   \n",
       "\n",
       "   ratio_thumbs_down_last_week  Churned  ratio_error  EverPay  last_login  \\\n",
       "0                      0.00000        0     0.000000        0   11.290787   \n",
       "1                      0.00000        0     0.000000        1   17.073171   \n",
       "2                      0.00000        1     0.000000        0   51.858310   \n",
       "3                      0.00000        1     0.000474        1   46.730370   \n",
       "4                      0.00463        0     0.001471        1    2.415625   \n",
       "\n",
       "   ratio_thumbs_up_last_week  ratio_error_last_week  ratio_thumbs_down  \n",
       "0                   0.000000                0.00000           0.018182  \n",
       "1                   0.000000                0.00000           0.015504  \n",
       "2                   0.000000                0.00000           0.000000  \n",
       "3                   0.000000                0.00000           0.009948  \n",
       "4                   0.060185                0.00463           0.010051  "
      ]
     },
     "execution_count": 60,
     "metadata": {},
     "output_type": "execute_result"
    }
   ],
   "source": [
    "user_log = user_log.withColumn(\"song\", when(col(\"page\")==\"NextSong\", 1).otherwise(0))\n",
    "user_log = user_log.withColumn(\"thumbs_down\", when(col(\"page\")==\"Thumbs Down\", 1).otherwise(0))\n",
    "user_log = user_log.withColumn(\"thumbs_up\", when(col(\"page\")==\"Thumbs Up\", 1).otherwise(0))\n",
    "user_log = user_log.withColumn(\"error\", when(col(\"page\")==\"Error\", 1).otherwise(0))\n",
    "\n",
    "max_ts = user_log.agg({\"ts\": \"max\"}).collect()[0].asDict()[\"max(ts)\"]\n",
    "user_log = user_log.withColumn(\"days_ago\", (max_ts - col(\"ts\"))/(1000*3600*24))\n",
    "user_log = user_log.withColumn(\"song_last_week\", when((col(\"days_ago\")<7)&(col(\"page\")==\"NextSong\"), 1).otherwise(0))\n",
    "user_log = user_log.withColumn(\"error_last_week\", when((col(\"days_ago\")<7)&(col(\"page\")==\"Error\"), 1).otherwise(0))\n",
    "user_log = user_log.withColumn(\"thumbs_up_last_week\", when((col(\"days_ago\")<7)&(col(\"page\")==\"Thumbs Up\"), 1).otherwise(0))\n",
    "user_log = user_log.withColumn(\"thumbs_down_last_week\", when((col(\"days_ago\")<7)&(col(\"page\")==\"Thumbs Down\"), 1).otherwise(0))\n",
    "\n",
    "                               \n",
    "                               \n",
    "churn_user_log = user_log.groupBy(\"userId\").agg({\n",
    "    \"Churn\": \"sum\", \n",
    "    \"song\": \"sum\",\n",
    "    \"thumbs_down\": \"sum\", \n",
    "    \"thumbs_up\": \"sum\", \n",
    "    \"error\": \"sum\", \n",
    "    \"Downgrade\": \"sum\", \n",
    "    \"IsPaidUser\": \"max\",\n",
    "    \"days_ago\": \"min\",\n",
    "    \"song_last_week\": \"sum\",\n",
    "    \"error_last_week\": \"sum\",\n",
    "    \"thumbs_up_last_week\": \"sum\",\n",
    "    \"thumbs_down_last_week\": \"sum\"\n",
    "}).withColumnRenamed(\"min(days_ago)\", \"last_login\")\\\n",
    "    .withColumnRenamed(\"max(IsPaidUser)\", \"EverPay\")\\\n",
    "    .withColumnRenamed(\"sum(Churn)\", \"Churned\")\n",
    "\n",
    "churn_user_log = churn_user_log.withColumn(\"sum(thumbs_up)\", col(\"sum(thumbs_up)\")/col(\"sum(song)\"))\n",
    "churn_user_log = churn_user_log.withColumn(\"sum(thumbs_down)\", col(\"sum(thumbs_down)\")/col(\"sum(song)\"))\n",
    "churn_user_log = churn_user_log.withColumn(\"sum(error)\", col(\"sum(error)\")/col(\"sum(song)\"))\n",
    "\n",
    "churn_user_log = churn_user_log.withColumn(\"sum(thumbs_up_last_week)\", col(\"sum(thumbs_up_last_week)\")/col(\"sum(song_last_week)\"))\n",
    "churn_user_log = churn_user_log.withColumn(\"sum(thumbs_down_last_week)\", col(\"sum(thumbs_down_last_week)\")/col(\"sum(song_last_week)\"))\n",
    "churn_user_log = churn_user_log.withColumn(\"sum(error_last_week)\", col(\"sum(error_last_week)\")/col(\"sum(song_last_week)\"))\n",
    "\n",
    "churn_user_log = churn_user_log\\\n",
    "    .withColumnRenamed(\"sum(thumbs_up)\", \"ratio_thumbs_up\")\\\n",
    "    .withColumnRenamed(\"sum(thumbs_down)\", \"ratio_thumbs_down\")\\\n",
    "    .withColumnRenamed(\"sum(error)\", \"ratio_error\")\\\n",
    "    .withColumnRenamed(\"sum(thumbs_up_last_week)\", \"ratio_thumbs_up_last_week\")\\\n",
    "    .withColumnRenamed(\"sum(thumbs_down_last_week)\", \"ratio_thumbs_down_last_week\")\\\n",
    "    .withColumnRenamed(\"sum(error_last_week)\", \"ratio_error_last_week\")\n",
    "\n",
    "churn_user_log = churn_user_log.na.fill(0)\n",
    "\n",
    "churn_user_log.limit(5).toPandas()"
   ]
  },
  {
   "cell_type": "markdown",
   "metadata": {},
   "source": [
    "data is unbalanced, add weights for lr"
   ]
  },
  {
   "cell_type": "code",
   "execution_count": 59,
   "metadata": {},
   "outputs": [],
   "source": [
    "churn_ratio = churn_user_log.select(Fmean(\"Churned\")).collect()[0].asDict()['avg(Churned)']"
   ]
  },
  {
   "cell_type": "code",
   "execution_count": 66,
   "metadata": {
    "scrolled": false
   },
   "outputs": [],
   "source": [
    "churn_user_log = churn_user_log.withColumn(\"weight\", lit(churn_ratio))\n",
    "churn_user_log = churn_user_log.withColumn(\"weight\", when(col(\"Churned\")==1, 1 - col(\"weight\")).otherwise(col(\"weight\")))"
   ]
  },
  {
   "cell_type": "markdown",
   "metadata": {},
   "source": [
    "adapt datatype for following steps"
   ]
  },
  {
   "cell_type": "code",
   "execution_count": 78,
   "metadata": {},
   "outputs": [
    {
     "name": "stdout",
     "output_type": "stream",
     "text": [
      "root\n",
      " |-- userId: string (nullable = true)\n",
      " |-- ratio_thumbs_up: double (nullable = false)\n",
      " |-- sum(Downgrade): long (nullable = true)\n",
      " |-- sum(song): long (nullable = true)\n",
      " |-- sum(song_last_week): long (nullable = true)\n",
      " |-- ratio_thumbs_down_last_week: double (nullable = false)\n",
      " |-- Churned: long (nullable = true)\n",
      " |-- ratio_error: double (nullable = false)\n",
      " |-- EverPay: integer (nullable = true)\n",
      " |-- last_login: double (nullable = false)\n",
      " |-- ratio_thumbs_up_last_week: double (nullable = false)\n",
      " |-- ratio_error_last_week: double (nullable = false)\n",
      " |-- ratio_thumbs_down: double (nullable = false)\n",
      " |-- weight: double (nullable = false)\n",
      "\n"
     ]
    }
   ],
   "source": [
    "churn_user_log.printSchema()"
   ]
  },
  {
   "cell_type": "code",
   "execution_count": 81,
   "metadata": {},
   "outputs": [],
   "source": [
    "churn_user_log = churn_user_log.withColumn(\"sum(Downgrade)\", col(\"sum(Downgrade)\").cast(IntegerType()))\n",
    "churn_user_log = churn_user_log.withColumn(\"sum(song)\", col(\"sum(song)\").cast(IntegerType()))\n",
    "churn_user_log = churn_user_log.withColumn(\"sum(song_last_week)\", col(\"sum(song_last_week)\").cast(IntegerType()))"
   ]
  },
  {
   "cell_type": "markdown",
   "metadata": {},
   "source": [
    "features:\n",
    "1. ever downgrad\n",
    "2. change of number of songs listened every session\n",
    "3. login in last n weeks\n",
    "4. number of thumbs down\n",
    "5. num_thumbs_down/num_thumbs_up\n",
    "6. num of errors\n",
    "7. last login time"
   ]
  },
  {
   "cell_type": "markdown",
   "metadata": {},
   "source": [
    "# Modeling\n",
    "Split the full dataset into train, test, and validation sets. Test out several of the machine learning methods you learned. Evaluate the accuracy of the various models, tuning parameters as necessary. Determine your winning model based on test accuracy and report results on the validation set. Since the churned users are a fairly small subset, I suggest using F1 score as the metric to optimize."
   ]
  },
  {
   "cell_type": "markdown",
   "metadata": {},
   "source": [
    "### Build Machine Learning pipeline\n",
    "- normalization\n",
    "- classification (logistic regression and decision tree)"
   ]
  },
  {
   "cell_type": "code",
   "execution_count": 132,
   "metadata": {},
   "outputs": [],
   "source": [
    "features_col = [\"ratio_thumbs_up\", \"sum(Downgrade)\", \"sum(song)\", \"sum(song_last_week)\", \"ratio_thumbs_down_last_week\", \"ratio_error\",\"EverPay\", \"last_login\", \"ratio_thumbs_up_last_week\", \"ratio_error_last_week\",\"ratio_thumbs_down\"]\n",
    "label_col = \"Churned\"\n",
    "churn_user_log = churn_user_log.withColumnRenamed(label_col, \"label\")\n",
    "\n",
    "columns_to_std_scale = [\"sum(Downgrade)\", \"sum(song)\", \"sum(song_last_week)\"]\n",
    "columns_to_minmax_scale = [\"last_login\"]\n",
    "columns_no_scale = list(set(features_col) - set(columns_to_std_scale) - set(columns_to_minmax_scale))\n",
    "\n",
    "feature_assemblers = []\n",
    "feature_assemblers.extend([VectorAssembler(inputCols=[col], outputCol=col+\"_vec\") for col in columns_to_minmax_scale+columns_to_std_scale])\n",
    "scalers = []\n",
    "scalers.extend([StandardScaler(withMean=True, inputCol=col+\"_vec\", outputCol=col+\"_scaled\") for col in columns_to_std_scale])\n",
    "scalers.extend([MinMaxScaler(inputCol=col+\"_vec\", outputCol=col+\"_scaled\") for col in columns_to_minmax_scale])\n",
    "assembler = VectorAssembler(inputCols=columns_no_scale+[col+\"_scaled\" for col in columns_to_std_scale+columns_to_minmax_scale], outputCol=\"features\")\n",
    "lr = LogisticRegression(featuresCol=\"features\", predictionCol=\"prediction\", weightCol=\"weight\")\n",
    "dt = DecisionTreeClassifier(featuresCol=\"features\", predictionCol=\"prediction\")\n",
    "\n",
    "plr = Pipeline(stages=feature_assemblers+scalers+[assembler, lr])\n",
    "pdt = Pipeline(stages=feature_assemblers+scalers+[assembler, dt])"
   ]
  },
  {
   "cell_type": "markdown",
   "metadata": {},
   "source": [
    "### Split dataset"
   ]
  },
  {
   "cell_type": "code",
   "execution_count": 121,
   "metadata": {},
   "outputs": [],
   "source": [
    "train, val, test = churn_user_log.randomSplit([0.8, 0.1, 0.1], 24)"
   ]
  },
  {
   "cell_type": "code",
   "execution_count": 122,
   "metadata": {},
   "outputs": [],
   "source": [
    "from pyspark.ml.evaluation import BinaryClassificationEvaluator\n",
    "from pyspark.ml.tuning import CrossValidator, ParamGridBuilder"
   ]
  },
  {
   "cell_type": "markdown",
   "metadata": {},
   "source": [
    "### model selection"
   ]
  },
  {
   "cell_type": "code",
   "execution_count": 123,
   "metadata": {},
   "outputs": [],
   "source": [
    "paramGrid = ParamGridBuilder() \\\n",
    "    .addGrid(lr.regParam,[0.0, 0.1]) \\\n",
    "    .build()\n",
    "\n",
    "crossval = CrossValidator(estimator=plr,\n",
    "                          estimatorParamMaps=paramGrid,\n",
    "                          evaluator=BinaryClassificationEvaluator(),\n",
    "                          numFolds=3)"
   ]
  },
  {
   "cell_type": "code",
   "execution_count": 124,
   "metadata": {
    "scrolled": false
   },
   "outputs": [
    {
     "data": {
      "text/plain": [
       "[0.9320685311161502, 0.937142857142857]"
      ]
     },
     "execution_count": 124,
     "metadata": {},
     "output_type": "execute_result"
    }
   ],
   "source": [
    "cvModel_q1 = crossval.fit(train)\n",
    "cvModel_q1.avgMetrics"
   ]
  },
  {
   "cell_type": "code",
   "execution_count": 133,
   "metadata": {},
   "outputs": [],
   "source": [
    "paramGrid = ParamGridBuilder() \\\n",
    "    .addGrid(dt.maxDepth,[5]) \\\n",
    "    .build()\n",
    "crossval = CrossValidator(estimator=pdt,\n",
    "                          estimatorParamMaps=paramGrid,\n",
    "                          evaluator=BinaryClassificationEvaluator(),\n",
    "                          numFolds=3)"
   ]
  },
  {
   "cell_type": "code",
   "execution_count": 134,
   "metadata": {
    "scrolled": false
   },
   "outputs": [
    {
     "data": {
      "text/plain": [
       "[0.8144925254052238]"
      ]
     },
     "execution_count": 134,
     "metadata": {},
     "output_type": "execute_result"
    }
   ],
   "source": [
    "cvModel_q2 = crossval.fit(train)\n",
    "cvModel_q2.avgMetrics"
   ]
  },
  {
   "cell_type": "markdown",
   "metadata": {},
   "source": [
    "# Final Steps\n",
    "Clean up your code, adding comments and renaming variables to make the code easier to read and maintain. Refer to the Spark Project Overview page and Data Scientist Capstone Project Rubric to make sure you are including all components of the capstone project and meet all expectations. Remember, this includes thorough documentation in a README file in a Github repository, as well as a web app or blog post."
   ]
  },
  {
   "cell_type": "code",
   "execution_count": null,
   "metadata": {},
   "outputs": [],
   "source": []
  }
 ],
 "metadata": {
  "kernelspec": {
   "display_name": "Python 3",
   "language": "python",
   "name": "python3"
  },
  "language_info": {
   "codemirror_mode": {
    "name": "ipython",
    "version": 3
   },
   "file_extension": ".py",
   "mimetype": "text/x-python",
   "name": "python",
   "nbconvert_exporter": "python",
   "pygments_lexer": "ipython3",
   "version": "3.6.3"
  }
 },
 "nbformat": 4,
 "nbformat_minor": 2
}
